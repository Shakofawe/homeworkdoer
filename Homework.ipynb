{
 "cells": [
  {
   "cell_type": "code",
   "execution_count": 27,
   "id": "79283bb8",
   "metadata": {},
   "outputs": [],
   "source": [
    "general = [51, 48, 47, 46, 45, 43, 41, 40, 40, 39\n",
    "\n",
    "]"
   ]
  },
  {
   "cell_type": "code",
   "execution_count": 28,
   "id": "b1eed422",
   "metadata": {},
   "outputs": [
    {
     "name": "stdout",
     "output_type": "stream",
     "text": [
      "[51, 48, 47, 46, 45, 43, 41, 40, 40, 39]\n"
     ]
    }
   ],
   "source": [
    "print(general)"
   ]
  },
  {
   "cell_type": "code",
   "execution_count": 67,
   "id": "c1606e36",
   "metadata": {},
   "outputs": [
    {
     "name": "stdout",
     "output_type": "stream",
     "text": [
      "440\n",
      "44.0\n",
      "10\n"
     ]
    }
   ],
   "source": [
    "sum = 0\n",
    "def getSum(general):\n",
    "    sum = 0\n",
    "    for x in general:\n",
    "        sum = sum + x\n",
    "    return sum\n",
    "\n",
    "sum = getSum(general)\n",
    "print(sum)\n",
    "n = len(general)\n",
    "mean = sum/n\n",
    "print(mean)\n",
    "print(n)"
   ]
  },
  {
   "cell_type": "code",
   "execution_count": 53,
   "id": "5789fb0b",
   "metadata": {},
   "outputs": [
    {
     "name": "stdout",
     "output_type": "stream",
     "text": [
      "[7.0, 4.0, 3.0, 2.0, 1.0, -1.0, -3.0, -4.0, -4.0, -5.0]\n"
     ]
    }
   ],
   "source": [
    "deltaMean = []\n",
    "for c in general:\n",
    "    mean2 = c-mean\n",
    "    deltaMean.append(mean2)\n",
    "print(deltaMean)"
   ]
  },
  {
   "cell_type": "code",
   "execution_count": 68,
   "id": "c1b9b4dd",
   "metadata": {
    "scrolled": true
   },
   "outputs": [
    {
     "name": "stdout",
     "output_type": "stream",
     "text": [
      "[49.0, 16.0, 9.0, 4.0, 1.0, 1.0, 9.0, 16.0, 16.0, 25.0]\n",
      "10\n"
     ]
    }
   ],
   "source": [
    "deltaMean2 = []\n",
    "for mean2 in deltaMean:\n",
    "    mean3 = mean2**2\n",
    "    deltaMean2.append(mean3)\n",
    "print(deltaMean2)\n",
    "print(n)"
   ]
  },
  {
   "cell_type": "code",
   "execution_count": 69,
   "id": "eff0d49a",
   "metadata": {},
   "outputs": [
    {
     "name": "stdout",
     "output_type": "stream",
     "text": [
      "146.0\n",
      "10\n"
     ]
    }
   ],
   "source": [
    "sum2 = getSum(deltaMean2)\n",
    "print(sum2)\n",
    "print(n)"
   ]
  },
  {
   "cell_type": "code",
   "execution_count": 70,
   "id": "18943915",
   "metadata": {},
   "outputs": [
    {
     "name": "stdout",
     "output_type": "stream",
     "text": [
      "10\n",
      "14.6\n"
     ]
    }
   ],
   "source": [
    "print(n)\n",
    "sum3 = sum2/n\n",
    "\n",
    "print(sum3)"
   ]
  },
  {
   "cell_type": "code",
   "execution_count": 71,
   "id": "57170767",
   "metadata": {},
   "outputs": [
    {
     "name": "stdout",
     "output_type": "stream",
     "text": [
      "3.82099463490856\n"
     ]
    }
   ],
   "source": [
    "final = sum3**(1/2)\n",
    "print(final)"
   ]
  },
  {
   "cell_type": "code",
   "execution_count": 91,
   "id": "958e0275",
   "metadata": {},
   "outputs": [
    {
     "name": "stdout",
     "output_type": "stream",
     "text": [
      "13.997084244475303\n",
      "60.714285714285715\n",
      "60\n",
      "3.82099463490856\n",
      "44.0\n",
      "45\n"
     ]
    }
   ],
   "source": [
    "import math\n",
    "import numpy as np\n",
    "def homework(num_list):\n",
    "    general = num_list\n",
    "    sum = 0\n",
    "    def getSum(general):\n",
    "        sum = 0\n",
    "        for x in general:\n",
    "            sum = sum + x\n",
    "        return sum\n",
    "\n",
    "    sum = getSum(general)\n",
    "    n = len(general)\n",
    "    mean = sum/n\n",
    "    deltaMean = []\n",
    "    for c in general:\n",
    "        mean2 = c-mean\n",
    "        deltaMean.append(mean2)\n",
    "    deltaMean2 = []\n",
    "    for mean2 in deltaMean:\n",
    "        mean3 = mean2**2\n",
    "        deltaMean2.append(mean3) \n",
    "    sum2 = getSum(deltaMean2)\n",
    "    sum3 = sum2/n\n",
    "    final = sum3**(1/2)\n",
    "    print(final)\n",
    "    print(mean)\n",
    "    general = list(np.sort(general))\n",
    "    medianGet = int(len(general)/2)\n",
    "    median = general[medianGet]\n",
    "    print(median)\n",
    "homework([35, 50, 60, 60, 75, 65, 80])\n",
    "homework([51, 48, 47, 46, 45, 43, 41, 40, 40, 39\n",
    "])\n",
    "\n"
   ]
  },
  {
   "cell_type": "code",
   "execution_count": null,
   "id": "590be3d4",
   "metadata": {},
   "outputs": [],
   "source": []
  }
 ],
 "metadata": {
  "kernelspec": {
   "display_name": "Python 3 (ipykernel)",
   "language": "python",
   "name": "python3"
  },
  "language_info": {
   "codemirror_mode": {
    "name": "ipython",
    "version": 3
   },
   "file_extension": ".py",
   "mimetype": "text/x-python",
   "name": "python",
   "nbconvert_exporter": "python",
   "pygments_lexer": "ipython3",
   "version": "3.9.10+"
  }
 },
 "nbformat": 4,
 "nbformat_minor": 5
}
